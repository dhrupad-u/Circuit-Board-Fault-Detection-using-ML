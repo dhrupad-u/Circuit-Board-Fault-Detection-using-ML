{
 "cells": [
  {
   "cell_type": "code",
   "execution_count": 2,
   "id": "09d8a54d",
   "metadata": {},
   "outputs": [],
   "source": [
    "import os\n",
    "import numpy as np\n",
    "from PIL import Image\n",
    "from tensorflow.keras.models import load_model\n",
    "from tensorflow.keras.preprocessing import image\n",
    "from tensorflow.keras.preprocessing.image import img_to_array"
   ]
  },
  {
   "cell_type": "code",
   "execution_count": 3,
   "id": "5029ce3d",
   "metadata": {},
   "outputs": [],
   "source": [
    "#Load the Model\n",
    "def get_model():\n",
    "    global model\n",
    "    model = load_model('model.h5')\n",
    "    print(\"Model loaded!\")"
   ]
  },
  {
   "cell_type": "code",
   "execution_count": 4,
   "id": "97bc4d42",
   "metadata": {},
   "outputs": [
    {
     "name": "stdout",
     "output_type": "stream",
     "text": [
      "WARNING:tensorflow:Error in loading the saved optimizer state. As a result, your model is starting with a freshly initialized optimizer.\n",
      "Model loaded!\n"
     ]
    }
   ],
   "source": [
    "get_model()"
   ]
  },
  {
   "cell_type": "code",
   "execution_count": 5,
   "id": "b60e5649",
   "metadata": {},
   "outputs": [],
   "source": [
    "# Define the image attributes, including path and size\n",
    "def load_image(img_path):\n",
    "\n",
    "    img = image.load_img(img_path, target_size=(224, 224))\n",
    "    img_tensor = image.img_to_array(img)\n",
    "    img_tensor = np.expand_dims(img_tensor, axis=0)         \n",
    "    img_tensor /= 255.                                     \n",
    "\n",
    "    return img_tensor"
   ]
  },
  {
   "cell_type": "code",
   "execution_count": 6,
   "id": "23f24c91",
   "metadata": {},
   "outputs": [],
   "source": [
    "# Define the prediction model, and the prediction logic\n",
    "def prediction(img_path):\n",
    "    new_image = load_image(img_path)\n",
    "    \n",
    "    pred = model.predict(new_image)\n",
    "    \n",
    "    print(pred)\n",
    "    \n",
    "    labels=np.array(pred)\n",
    "    labels[labels>=0.6]=1\n",
    "    labels[labels<0.6]=0\n",
    "    \n",
    "    print(labels)\n",
    "    final=np.array(labels)\n",
    "    \n",
    "    if final[0][0]==1:\n",
    "        return \"Bad\"\n",
    "    else:\n",
    "        return \"Good\""
   ]
  },
  {
   "cell_type": "code",
   "execution_count": 13,
   "id": "d091c26b",
   "metadata": {},
   "outputs": [
    {
     "name": "stdout",
     "output_type": "stream",
     "text": [
      "1/1 [==============================] - 0s 34ms/step\n",
      "[[0.9979213  0.00207879]]\n",
      "[[1. 0.]]\n"
     ]
    },
    {
     "data": {
      "text/plain": [
       "'Bad'"
      ]
     },
     "execution_count": 13,
     "metadata": {},
     "output_type": "execute_result"
    }
   ],
   "source": [
    "# Test1\n",
    "prediction(r'C:/Users/dhrupad/Desktop/EGEE-529/Project/Dataset/test/test1/bad (75)k.jpeg')"
   ]
  },
  {
   "cell_type": "code",
   "execution_count": 9,
   "id": "e398dc78",
   "metadata": {},
   "outputs": [
    {
     "name": "stdout",
     "output_type": "stream",
     "text": [
      "1/1 [==============================] - 0s 34ms/step\n",
      "[[1.0334545e-04 9.9989665e-01]]\n",
      "[[0. 1.]]\n",
      "Good\n"
     ]
    }
   ],
   "source": [
    "# Test2\n",
    "print(prediction(r'C:/Users/dhrupad/Desktop/EGEE-529/Project/Dataset/test/test1/good (361)k.jpeg'))"
   ]
  },
  {
   "cell_type": "code",
   "execution_count": 11,
   "id": "3f9d5516",
   "metadata": {},
   "outputs": [
    {
     "name": "stdout",
     "output_type": "stream",
     "text": [
      "1/1 [==============================] - 0s 34ms/step\n",
      "[[9.9996936e-01 3.0587224e-05]]\n",
      "[[1. 0.]]\n"
     ]
    }
   ],
   "source": [
    "# Test3\n",
    "product = prediction(r'C:/Users/dhrupad/Desktop/EGEE-529/Project/Dataset/test/test1/bad (25)k.jpeg')  "
   ]
  },
  {
   "cell_type": "code",
   "execution_count": 12,
   "id": "31c071e4",
   "metadata": {},
   "outputs": [
    {
     "data": {
      "text/plain": [
       "'Bad'"
      ]
     },
     "execution_count": 12,
     "metadata": {},
     "output_type": "execute_result"
    }
   ],
   "source": [
    "product"
   ]
  }
 ],
 "metadata": {
  "kernelspec": {
   "display_name": "Python 3 (ipykernel)",
   "language": "python",
   "name": "python3"
  },
  "language_info": {
   "codemirror_mode": {
    "name": "ipython",
    "version": 3
   },
   "file_extension": ".py",
   "mimetype": "text/x-python",
   "name": "python",
   "nbconvert_exporter": "python",
   "pygments_lexer": "ipython3",
   "version": "3.10.9"
  }
 },
 "nbformat": 4,
 "nbformat_minor": 5
}
