{
 "cells": [
  {
   "cell_type": "code",
   "execution_count": 1,
   "id": "fa0e9702",
   "metadata": {},
   "outputs": [],
   "source": [
    "import os\n",
    "import numpy as np\n",
    "import pandas as pd\n",
    "from PIL import Image\n",
    "import tensorflow as tf\n",
    "from tensorflow.keras.models import load_model\n",
    "from tensorflow.keras.preprocessing import image\n",
    "from flask import Flask, render_template, request\n",
    "from tensorflow.keras.preprocessing.image import load_img\n",
    "from tensorflow.keras.preprocessing.image import img_to_array"
   ]
  },
  {
   "cell_type": "code",
   "execution_count": 2,
   "id": "fef90e96",
   "metadata": {},
   "outputs": [],
   "source": [
    "# Define Flask Server Name\n",
    "app = Flask(__name__)"
   ]
  },
  {
   "cell_type": "code",
   "execution_count": 3,
   "id": "9bed1c2f",
   "metadata": {},
   "outputs": [],
   "source": [
    "# Load the Prediction model\n",
    "def get_model():\n",
    "    global model\n",
    "    model = load_model('model.h5')\n",
    "    print(\"Model loaded!\")"
   ]
  },
  {
   "cell_type": "code",
   "execution_count": 4,
   "id": "af09fe25",
   "metadata": {},
   "outputs": [],
   "source": [
    "# Define the default image attributes, just like the one in the prediction file\n",
    "def load_image(img_path):\n",
    "\n",
    "    img = image.load_img(img_path, target_size=(224, 224))\n",
    "    img_tensor = image.img_to_array(img)                    \n",
    "    img_tensor = np.expand_dims(img_tensor, axis=0)         \n",
    "    img_tensor /= 255.                                     \n",
    "    return img_tensor"
   ]
  },
  {
   "cell_type": "code",
   "execution_count": 5,
   "id": "954f5a28",
   "metadata": {},
   "outputs": [],
   "source": [
    "# Define the prediction model, and the prediction logic\n",
    "def prediction(img_path):\n",
    "    new_image = load_image(img_path)\n",
    "    \n",
    "    pred = model.predict(new_image)\n",
    "    \n",
    "    print(pred)\n",
    "    \n",
    "    labels=np.array(pred)\n",
    "    labels[labels>=0.6]=1\n",
    "    labels[labels<0.6]=0\n",
    "    \n",
    "    print(labels)\n",
    "    final=np.array(labels)\n",
    "    \n",
    "    if final[0][0]==1:\n",
    "        return \"Bad\"\n",
    "    else:\n",
    "        return \"Good\""
   ]
  },
  {
   "cell_type": "code",
   "execution_count": 6,
   "id": "7c91e736",
   "metadata": {},
   "outputs": [
    {
     "name": "stdout",
     "output_type": "stream",
     "text": [
      "WARNING:tensorflow:Error in loading the saved optimizer state. As a result, your model is starting with a freshly initialized optimizer.\n",
      "Model loaded!\n"
     ]
    }
   ],
   "source": [
    "get_model ()"
   ]
  },
  {
   "cell_type": "code",
   "execution_count": 9,
   "id": "ec08796e",
   "metadata": {},
   "outputs": [],
   "source": [
    "# Render the Flask Server and define the WebPages to be accessed when the server is clicked\n",
    "@app.route(\"/\", methods=['GET', 'POST'])\n",
    "def home():\n",
    "\n",
    "    return render_template('home.html')\n",
    "\n",
    "@app.route(\"/predict\", methods = ['GET','POST'])\n",
    "def predict():\n",
    "    \n",
    "    if request.method == 'POST':\n",
    "        \n",
    "        file = request.files['file']\n",
    "        filename = file.filename\n",
    "        file_path = os.path.join(r'C:/Users/dhrupad/Desktop/EGEE-529/Project/static', filename)       \n",
    "        file.save(file_path)\n",
    "        print(filename)\n",
    "        product = prediction(file_path)\n",
    "        print(product)\n",
    "        \n",
    "    return render_template('predict.html', product = product, user_image = file_path) "
   ]
  },
  {
   "cell_type": "code",
   "execution_count": null,
   "id": "9e5f38b5",
   "metadata": {},
   "outputs": [
    {
     "name": "stdout",
     "output_type": "stream",
     "text": [
      " * Serving Flask app '__main__'\n",
      " * Debug mode: off\n"
     ]
    },
    {
     "name": "stderr",
     "output_type": "stream",
     "text": [
      "WARNING: This is a development server. Do not use it in a production deployment. Use a production WSGI server instead.\n",
      " * Running on http://127.0.0.1:5000\n",
      "Press CTRL+C to quit\n"
     ]
    }
   ],
   "source": [
    "if __name__ == \"__main__\":\n",
    "    app.run()"
   ]
  }
 ],
 "metadata": {
  "kernelspec": {
   "display_name": "Python 3 (ipykernel)",
   "language": "python",
   "name": "python3"
  },
  "language_info": {
   "codemirror_mode": {
    "name": "ipython",
    "version": 3
   },
   "file_extension": ".py",
   "mimetype": "text/x-python",
   "name": "python",
   "nbconvert_exporter": "python",
   "pygments_lexer": "ipython3",
   "version": "3.10.9"
  }
 },
 "nbformat": 4,
 "nbformat_minor": 5
}
